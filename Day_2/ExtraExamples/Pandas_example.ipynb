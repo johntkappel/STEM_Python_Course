{
 "cells": [
  {
   "cell_type": "code",
   "execution_count": 2,
   "metadata": {},
   "outputs": [],
   "source": [
    "%matplotlib inline\n",
    "import matplotlib.pyplot as plt\n",
    "import pandas as pd\n",
    "import numpy as np\n",
    "\n",
    "\n",
    "# I realize not everyone will have ROOT installed so i've commented out the root specific parts\n",
    "\n",
    "#from ROOT import TLorentzVector\n",
    "\n",
    "#@np.vectorize\n",
    "#def q2_calc(px, py, pz):\n",
    "#    e_beam = TLorentzVector(0, 0, 4.8, 4.8)\n",
    "#    e_prime = TLorentzVector()\n",
    "#   e_prime.SetXYZM(px, py, pz, 0.000511)\n",
    "#    return -(e_beam - e_prime).M2()\n",
    "\n",
    "#@np.vectorize\n",
    "#def W_calc(px, py, pz):\n",
    "#    e_beam = TLorentzVector(0, 0, 4.8, 4.8)\n",
    "#    p_targ = TLorentzVector(0, 0, 0.0, 0.93828)\n",
    "#    e_prime = TLorentzVector()\n",
    "#    e_prime.SetXYZM(px, py, pz, 0.000511)\n",
    "#    return (e_beam - e_prime + p_targ).M()\n",
    "    "
   ]
  },
  {
   "cell_type": "code",
   "execution_count": 6,
   "metadata": {},
   "outputs": [
    {
     "data": {
      "text/html": [
       "<div>\n",
       "<style scoped>\n",
       "    .dataframe tbody tr th:only-of-type {\n",
       "        vertical-align: middle;\n",
       "    }\n",
       "\n",
       "    .dataframe tbody tr th {\n",
       "        vertical-align: top;\n",
       "    }\n",
       "\n",
       "    .dataframe thead th {\n",
       "        text-align: right;\n",
       "    }\n",
       "</style>\n",
       "<table border=\"1\" class=\"dataframe\">\n",
       "  <thead>\n",
       "    <tr style=\"text-align: right;\">\n",
       "      <th></th>\n",
       "      <th>p</th>\n",
       "      <th>cx</th>\n",
       "      <th>cy</th>\n",
       "      <th>cz</th>\n",
       "    </tr>\n",
       "  </thead>\n",
       "  <tbody>\n",
       "    <tr>\n",
       "      <th>count</th>\n",
       "      <td>100000.000000</td>\n",
       "      <td>100000.000000</td>\n",
       "      <td>100000.000000</td>\n",
       "      <td>100000.000000</td>\n",
       "    </tr>\n",
       "    <tr>\n",
       "      <th>mean</th>\n",
       "      <td>2.809895</td>\n",
       "      <td>-0.009248</td>\n",
       "      <td>0.000167</td>\n",
       "      <td>0.927430</td>\n",
       "    </tr>\n",
       "    <tr>\n",
       "      <th>std</th>\n",
       "      <td>0.797405</td>\n",
       "      <td>0.276466</td>\n",
       "      <td>0.249021</td>\n",
       "      <td>0.036664</td>\n",
       "    </tr>\n",
       "    <tr>\n",
       "      <th>min</th>\n",
       "      <td>1.500080</td>\n",
       "      <td>-0.677151</td>\n",
       "      <td>-0.676080</td>\n",
       "      <td>0.726911</td>\n",
       "    </tr>\n",
       "    <tr>\n",
       "      <th>25%</th>\n",
       "      <td>2.096775</td>\n",
       "      <td>-0.248829</td>\n",
       "      <td>-0.234165</td>\n",
       "      <td>0.910984</td>\n",
       "    </tr>\n",
       "    <tr>\n",
       "      <th>50%</th>\n",
       "      <td>2.804645</td>\n",
       "      <td>-0.096869</td>\n",
       "      <td>-0.002730</td>\n",
       "      <td>0.937082</td>\n",
       "    </tr>\n",
       "    <tr>\n",
       "      <th>75%</th>\n",
       "      <td>3.511635</td>\n",
       "      <td>0.230567</td>\n",
       "      <td>0.237127</td>\n",
       "      <td>0.954553</td>\n",
       "    </tr>\n",
       "    <tr>\n",
       "      <th>max</th>\n",
       "      <td>4.557770</td>\n",
       "      <td>0.672610</td>\n",
       "      <td>0.662856</td>\n",
       "      <td>0.974583</td>\n",
       "    </tr>\n",
       "  </tbody>\n",
       "</table>\n",
       "</div>"
      ],
      "text/plain": [
       "                   p             cx             cy             cz\n",
       "count  100000.000000  100000.000000  100000.000000  100000.000000\n",
       "mean        2.809895      -0.009248       0.000167       0.927430\n",
       "std         0.797405       0.276466       0.249021       0.036664\n",
       "min         1.500080      -0.677151      -0.676080       0.726911\n",
       "25%         2.096775      -0.248829      -0.234165       0.910984\n",
       "50%         2.804645      -0.096869      -0.002730       0.937082\n",
       "75%         3.511635       0.230567       0.237127       0.954553\n",
       "max         4.557770       0.672610       0.662856       0.974583"
      ]
     },
     "execution_count": 6,
     "metadata": {},
     "output_type": "execute_result"
    }
   ],
   "source": [
    "data = pd.read_csv(\"../511_lab_E_100k.csv.bz2\")\n",
    "data.describe()"
   ]
  },
  {
   "cell_type": "code",
   "execution_count": null,
   "metadata": {},
   "outputs": [],
   "source": [
    "%%time\n",
    "\n",
    "px = []\n",
    "py = []\n",
    "pz = []\n",
    "#q2 = []\n",
    "#w = []\n",
    "for index, row in data.iterrows():\n",
    "    px.append(row.p*row.cx)\n",
    "    py.append(row.p*row.cy)\n",
    "    pz.append(row.p*row.cz)\n",
    "    #q2.append(q2_calc(px[-1],py[-1],pz[-1]))\n",
    "    #w.append(W_calc(px[-1],py[-1],pz[-1]))\n",
    "        \n",
    "data['px'] = px\n",
    "data['py'] = py\n",
    "data['pz'] = pz\n",
    "#data['q2'] = q2\n",
    "#data['w'] = w"
   ]
  },
  {
   "cell_type": "code",
   "execution_count": null,
   "metadata": {},
   "outputs": [],
   "source": [
    "%%time \n",
    "data['px'] = data['cx'] * data['p']\n",
    "data['py'] = data['cy'] * data['p']\n",
    "data['pz'] = data['cz'] * data['p']\n",
    "#data['q2'] = q2_calc(data['px'],data['py'],data['pz'])\n",
    "#data['w'] = W_calc(data['px'],data['py'],data['pz'])"
   ]
  },
  {
   "cell_type": "code",
   "execution_count": null,
   "metadata": {},
   "outputs": [],
   "source": [
    "# Plot directly from pandas df\n",
    "data['pz'].hist(bins=50)\n",
    "plt.show()"
   ]
  },
  {
   "cell_type": "code",
   "execution_count": null,
   "metadata": {},
   "outputs": [],
   "source": [
    "# Slices data and puts into new dataframe to only keep values where pz < 1.0\n",
    "data_2 = data[data['pz'] < 1.0]\n",
    "# Can also plot all of the values at once not just a single plot\n",
    "data_2.hist(bins=50,figsize=(20,20))\n",
    "plt.show()"
   ]
  },
  {
   "cell_type": "code",
   "execution_count": null,
   "metadata": {},
   "outputs": [],
   "source": []
  }
 ],
 "metadata": {
  "kernelspec": {
   "display_name": "Python 3",
   "language": "python",
   "name": "python3"
  },
  "language_info": {
   "codemirror_mode": {
    "name": "ipython",
    "version": 3
   },
   "file_extension": ".py",
   "mimetype": "text/x-python",
   "name": "python",
   "nbconvert_exporter": "python",
   "pygments_lexer": "ipython3",
   "version": "3.7.2"
  }
 },
 "nbformat": 4,
 "nbformat_minor": 2
}
