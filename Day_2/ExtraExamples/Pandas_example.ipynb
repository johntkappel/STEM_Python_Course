{
 "cells": [
  {
   "cell_type": "code",
   "execution_count": null,
   "metadata": {},
   "outputs": [],
   "source": [
    "%matplotlib inline\n",
    "import matplotlib.pyplot as plt\n",
    "import pandas as pd\n",
    "import numpy as np\n",
    "\n",
    "\n",
    "# I realize not everyone will have ROOT installed so i've commented out the root specific parts\n",
    "\n",
    "#from ROOT import TLorentzVector\n",
    "\n",
    "#@np.vectorize\n",
    "#def q2_calc(px, py, pz):\n",
    "#    e_beam = TLorentzVector(0, 0, 4.8, 4.8)\n",
    "#    e_prime = TLorentzVector()\n",
    "#   e_prime.SetXYZM(px, py, pz, 0.000511)\n",
    "#    return -(e_beam - e_prime).M2()\n",
    "\n",
    "#@np.vectorize\n",
    "#def W_calc(px, py, pz):\n",
    "#    e_beam = TLorentzVector(0, 0, 4.8, 4.8)\n",
    "#    p_targ = TLorentzVector(0, 0, 0.0, 0.93828)\n",
    "#    e_prime = TLorentzVector()\n",
    "#    e_prime.SetXYZM(px, py, pz, 0.000511)\n",
    "#    return (e_beam - e_prime + p_targ).M()\n",
    "    "
   ]
  },
  {
   "cell_type": "code",
   "execution_count": null,
   "metadata": {},
   "outputs": [],
   "source": [
    "data = pd.read_csv(\"511_lab_E_1k.csv\")\n",
    "data.describe()"
   ]
  },
  {
   "cell_type": "code",
   "execution_count": null,
   "metadata": {},
   "outputs": [],
   "source": [
    "%%time\n",
    "\n",
    "px = []\n",
    "py = []\n",
    "pz = []\n",
    "#q2 = []\n",
    "#w = []\n",
    "for index, row in data.iterrows():\n",
    "    px.append(row.p*row.cx)\n",
    "    py.append(row.p*row.cy)\n",
    "    pz.append(row.p*row.cz)\n",
    "    #q2.append(q2_calc(px[-1],py[-1],pz[-1]))\n",
    "    #w.append(W_calc(px[-1],py[-1],pz[-1]))\n",
    "        \n",
    "data['px'] = px\n",
    "data['py'] = py\n",
    "data['pz'] = pz\n",
    "#data['q2'] = q2\n",
    "#data['w'] = w"
   ]
  },
  {
   "cell_type": "code",
   "execution_count": null,
   "metadata": {},
   "outputs": [],
   "source": [
    "%%time \n",
    "data['px'] = data['cx'] * data['p']\n",
    "data['py'] = data['cy'] * data['p']\n",
    "data['pz'] = data['cz'] * data['p']\n",
    "#data['q2'] = q2_calc(data['px'],data['py'],data['pz'])\n",
    "#data['w'] = W_calc(data['px'],data['py'],data['pz'])"
   ]
  },
  {
   "cell_type": "code",
   "execution_count": null,
   "metadata": {},
   "outputs": [],
   "source": [
    "# Plot directly from pandas df\n",
    "data['pz'].hist(bins=50)\n",
    "plt.show()"
   ]
  },
  {
   "cell_type": "code",
   "execution_count": null,
   "metadata": {},
   "outputs": [],
   "source": [
    "# Slices data and puts into new dataframe to only keep values where pz < 1.0\n",
    "data_2 = data[data['pz'] < 1.0]\n",
    "# Can also plot all of the values at once not just a single plot\n",
    "data_2.hist(bins=50,figsize=(20,20))\n",
    "plt.show()"
   ]
  },
  {
   "cell_type": "code",
   "execution_count": null,
   "metadata": {},
   "outputs": [],
   "source": []
  }
 ],
 "metadata": {
  "kernelspec": {
   "display_name": "Python 3",
   "language": "python",
   "name": "python3"
  },
  "language_info": {
   "codemirror_mode": {
    "name": "ipython",
    "version": 3
   },
   "file_extension": ".py",
   "mimetype": "text/x-python",
   "name": "python",
   "nbconvert_exporter": "python",
   "pygments_lexer": "ipython3",
   "version": "3.7.3"
  }
 },
 "nbformat": 4,
 "nbformat_minor": 2
}
